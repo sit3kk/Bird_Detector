{
 "cells": [
  {
   "cell_type": "code",
   "execution_count": 2,
   "metadata": {},
   "outputs": [],
   "source": [
    "import numpy as np\n",
    "import tensorflow as tf\n",
    "from tensorflow.keras.preprocessing import image\n",
    "import os"
   ]
  },
  {
   "cell_type": "code",
   "execution_count": 3,
   "metadata": {},
   "outputs": [],
   "source": [
    "def load_model(model_path):\n",
    "    model = tf.keras.models.load_model(model_path)\n",
    "    print(f\"Loaded model from {model_path}\")\n",
    "    return model"
   ]
  },
  {
   "cell_type": "code",
   "execution_count": 4,
   "metadata": {},
   "outputs": [],
   "source": [
    "def prepare_image(image_path, target_size=(224, 224)):\n",
    "    img = image.load_img(image_path, target_size=target_size)\n",
    "    img_array = image.img_to_array(img)\n",
    "    img_array = np.expand_dims(img_array, axis=0)\n",
    "    img_array /= 255.0\n",
    "    return img_array"
   ]
  },
  {
   "cell_type": "code",
   "execution_count": null,
   "metadata": {},
   "outputs": [],
   "source": [
    "def predict_image(model, image_path):\n",
    "    img_array = prepare_image(image_path)\n",
    "    prediction = model.predict(img_array)\n",
    "    bird_probability = prediction[0][0]\n",
    "    if bird_probability > 0.5:\n",
    "        result = \"Bird\"\n",
    "    else:\n",
    "        result = \"Not Bird\"\n",
    "    print(\n",
    "        f\"Prediction for {os.path.basename(image_path)}: {result} ({bird_probability:.2f})\"\n",
    "    )\n",
    "    return result, bird_probability"
   ]
  },
  {
   "cell_type": "code",
   "execution_count": null,
   "metadata": {},
   "outputs": [],
   "source": [
    "model_paths = [\n",
    "    \"path_to_saved_model_1/bird_detection_model_1.h5\",  \n",
    "    \"path_to_saved_model_2/bird_detection_model_2.h5\",\n",
    "]\n",
    "\n",
    "\n",
    "models = [load_model(path) for path in model_paths]"
   ]
  },
  {
   "cell_type": "code",
   "execution_count": null,
   "metadata": {},
   "outputs": [],
   "source": [
    "image_path = \"path_to_test_image.jpg\"  \n",
    "\n",
    "\n",
    "selected_model = models[0]\n",
    "\n",
    "predict_image(selected_model, image_path)"
   ]
  },
  {
   "cell_type": "code",
   "execution_count": null,
   "metadata": {},
   "outputs": [],
   "source": [
    "for i, model in enumerate(models):\n",
    "    print(f\"\\nUsing model {i+1}:\")\n",
    "    predict_image(model, image_path)"
   ]
  }
 ],
 "metadata": {
  "kernelspec": {
   "display_name": "venv",
   "language": "python",
   "name": "python3"
  },
  "language_info": {
   "codemirror_mode": {
    "name": "ipython",
    "version": 3
   },
   "file_extension": ".py",
   "mimetype": "text/x-python",
   "name": "python",
   "nbconvert_exporter": "python",
   "pygments_lexer": "ipython3",
   "version": "3.11.7"
  }
 },
 "nbformat": 4,
 "nbformat_minor": 2
}
